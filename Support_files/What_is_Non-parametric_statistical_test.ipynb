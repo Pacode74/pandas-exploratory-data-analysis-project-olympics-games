{
 "cells": [
  {
   "cell_type": "markdown",
   "id": "e492b919-bfcb-4621-9764-a5cf425061a9",
   "metadata": {},
   "source": [
    "**What is Non-parametric statistical test?**"
   ]
  },
  {
   "cell_type": "markdown",
   "id": "749c7a59-88ba-4692-85f8-9f90457b20f5",
   "metadata": {},
   "source": [
    "A non-parametric statistical test or method is one that does not rely on specific assumptions about the probability distribution or shape of the population from which the data are sampled. In contrast, parametric statistical tests make assumptions about the underlying distribution of data, such as assuming a normal distribution or a specific mathematical form for the population distribution.\n",
    "\n",
    "Here are some key characteristics of non-parametric methods:\n",
    "\n",
    "1. **Distribution-Free:** Non-parametric methods are distribution-free, meaning they make minimal or no assumptions about the shape or parameters of the population distribution. This makes them more versatile because they can be used with data that do not follow a specific distribution.\n",
    "\n",
    "2. **Ordinal Data:** Non-parametric methods are often used when dealing with ordinal data, which consists of ordered categories but does not have equal intervals between categories. Examples include rankings, survey responses on Likert scales, and categorical data.\n",
    "\n",
    "3. **Robustness:** Non-parametric methods are robust to outliers and do not require the data to be normally distributed. They can be used when data violate the assumptions of parametric methods.\n",
    "\n",
    "4. **Less Statistical Power:** Non-parametric tests are generally less powerful than their parametric counterparts when the parametric assumptions hold. This means that they may have lower sensitivity to detect subtle effects in the data.\n",
    "\n",
    "Common examples of non-parametric tests and methods include the Wilcoxon signed-rank test, Mann-Whitney U test, Kruskal-Wallis test, Spearman correlation, and chi-squared tests.\n",
    "\n",
    "Non-parametric methods are valuable tools in statistics when you want to make fewer assumptions about your data or when dealing with data that do not meet the assumptions of parametric tests. They are widely used in various fields, including social sciences, biology, and healthcare, where the underlying data distribution may be unknown or non-normally distributed."
   ]
  }
 ],
 "metadata": {
  "kernelspec": {
   "display_name": "pandas",
   "language": "python",
   "name": "pandas"
  },
  "language_info": {
   "codemirror_mode": {
    "name": "ipython",
    "version": 3
   },
   "file_extension": ".py",
   "mimetype": "text/x-python",
   "name": "python",
   "nbconvert_exporter": "python",
   "pygments_lexer": "ipython3",
   "version": "3.10.8"
  }
 },
 "nbformat": 4,
 "nbformat_minor": 5
}
